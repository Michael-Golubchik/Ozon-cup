{
 "cells": [
  {
   "cell_type": "code",
   "execution_count": null,
   "id": "f9ea5f09-a83d-4ab6-b70a-02356d26b67f",
   "metadata": {},
   "outputs": [],
   "source": [
    "%load_ext autoreload\n",
    "%autoreload 2"
   ]
  },
  {
   "cell_type": "code",
   "execution_count": null,
   "id": "5f8ab1b1-acbc-4d28-8c1c-3fd71d77cb64",
   "metadata": {},
   "outputs": [],
   "source": [
    "%%time\n",
    "from baseline import main, main_new\n",
    "main()\n",
    "#main_new()"
   ]
  },
  {
   "cell_type": "code",
   "execution_count": null,
   "id": "de8b1e57-0949-442f-9d4d-087b24e0dbed",
   "metadata": {},
   "outputs": [],
   "source": [
    "%%time\n",
    "from make_submission import main\n",
    "main()\n",
    "#target, predictions_prob, y_pred_prob = main()"
   ]
  },
  {
   "cell_type": "code",
   "execution_count": null,
   "id": "4d57393f-b7f4-447a-bf18-399b95ef804d",
   "metadata": {},
   "outputs": [],
   "source": [
    "from collections import Counter\n",
    "\n",
    "# Предположим, что y_val - это массив меток классов\n",
    "class_balance = Counter(predictions)\n",
    "print(\"Баланс классов:\", class_balance)"
   ]
  },
  {
   "cell_type": "code",
   "execution_count": null,
   "id": "1e33e906-ef4b-4537-8c53-5fd2be637cd9",
   "metadata": {},
   "outputs": [],
   "source": [
    "%%time\n",
    "from baseline import make_report\n",
    "make_report()"
   ]
  },
  {
   "cell_type": "code",
   "execution_count": null,
   "id": "8f5c18c1-b264-4fde-bc80-4e225caec023",
   "metadata": {},
   "outputs": [],
   "source": [
    "%%time\n",
    "import os\n",
    "os.environ['WANDB_NOTEBOOK_NAME'] = 'start.ipynb'\n",
    "from baseline import train_bert, check_bert\n",
    "import wandb\n",
    "wandb.login(key=\"68be83ff5b81233c60ffad40f6327a3700797a16\")\n",
    "check_bert()\n",
    "#train_bert()"
   ]
  },
  {
   "cell_type": "code",
   "execution_count": null,
   "id": "8747a756-1f6c-41d4-b189-bde55ed60650",
   "metadata": {},
   "outputs": [],
   "source": [
    "%%time\n",
    "from baseline import make_report\n",
    "make_report()"
   ]
  },
  {
   "cell_type": "code",
   "execution_count": null,
   "id": "20a5ae51-f21c-4f27-bb8f-1ef348ea4591",
   "metadata": {},
   "outputs": [],
   "source": [
    "import numpy as np\n",
    "text_data = train_data['text_1'] + ' ' + train_data['text_2']    \n",
    "text_embeddings = tfidf_vectorizer.transform(text_data).toarray()\n",
    "train_data['combined_embeddings'] = train_data.apply(lambda row: np.concatenate([\n",
    "        row['pic_embeddings_1'][0], row['pic_embeddings_2'][0], text_embeddings[row.name]\n",
    "    ]), axis=1)"
   ]
  },
  {
   "cell_type": "code",
   "execution_count": null,
   "id": "5a9f55e2-f5ff-4a92-a800-61d8bf126787",
   "metadata": {},
   "outputs": [],
   "source": [
    "import pyarrow.parquet as pq\n",
    "import pandas as pd\n",
    "\n",
    "attributes_path = './data/test/attributes_test.parquet'\n",
    "resnet_path = './data/test/resnet_test.parquet'\n",
    "text_and_bert_path = './data/test/text_and_bert_test.parquet'\n",
    "val_path = './data/test/test.parquet'\n",
    "\n",
    "test = pd.read_parquet(val_path, engine='pyarrow')\n",
    "variantids = pd.concat([test['variantid1'], test['variantid2']]).unique()\n",
    "# Открываем файл\n",
    "parquet_file = pq.ParquetFile(resnet_path)\n",
    "\n",
    "# Задаем пустой DataFrame для хранения отфильтрованных данных\n",
    "filtered_df = pd.DataFrame()\n",
    "\n",
    "# Обрабатываем файл по row group\n",
    "# for i in range(parquet_file.num_row_groups):\n",
    "i = 0\n",
    "for batch in parquet_file.iter_batches():\n",
    "\n",
    "    i += 1\n",
    "    print(i)\n",
    "    \n",
    "    batch = batch.to_pandas()\n",
    "    \n",
    "    # # Применяем фильтрацию\n",
    "    filtered_df = pd.concat([filtered_df, batch[batch['variantid'].isin(variantids)]], ignore_index=True)\n",
    "\n",
    "# Используем отфильтрованные данные\n",
    "# text_and_bert = filtered_df"
   ]
  },
  {
   "cell_type": "code",
   "execution_count": null,
   "id": "13a94921-879d-4a55-919e-302a19f24401",
   "metadata": {},
   "outputs": [],
   "source": [
    "import numpy\n",
    "print(numpy.__version__)"
   ]
  },
  {
   "cell_type": "code",
   "execution_count": null,
   "id": "7dfe3dee-e3db-48cb-bfae-78d62af56657",
   "metadata": {},
   "outputs": [],
   "source": [
    "text_data.loc[0]"
   ]
  },
  {
   "cell_type": "code",
   "execution_count": null,
   "id": "47bfa588-e82d-4a79-b068-8f2497462e5b",
   "metadata": {},
   "outputs": [],
   "source": [
    "text_embeddings[0]"
   ]
  },
  {
   "cell_type": "code",
   "execution_count": null,
   "id": "b57188e4-922e-434e-bcc5-1f2051bfeb88",
   "metadata": {},
   "outputs": [],
   "source": [
    "attributes.loc[2]"
   ]
  },
  {
   "cell_type": "code",
   "execution_count": null,
   "id": "7623cabe-6a56-4152-8466-65a5c1b2af26",
   "metadata": {},
   "outputs": [],
   "source": [
    "attributes.loc[2]['categories']"
   ]
  },
  {
   "cell_type": "code",
   "execution_count": null,
   "id": "eb69f127-40ec-4a58-8b6d-5a10b94b66d2",
   "metadata": {},
   "outputs": [],
   "source": [
    "attributes.loc[2]['characteristic_attributes_mapping']"
   ]
  },
  {
   "cell_type": "code",
   "execution_count": null,
   "id": "c60c984b-6e9e-471f-8cc4-ad2487b4ab5a",
   "metadata": {},
   "outputs": [],
   "source": [
    "attributes.loc[0]['characteristic_attributes_mapping']"
   ]
  },
  {
   "cell_type": "code",
   "execution_count": null,
   "id": "4ba6175b-fb49-4b2a-b6bd-656654578fa3",
   "metadata": {},
   "outputs": [],
   "source": [
    "attributes.loc[2]['combined_text']"
   ]
  },
  {
   "cell_type": "code",
   "execution_count": null,
   "id": "5b10d314-e09b-48d3-a088-5e2cf02c5608",
   "metadata": {},
   "outputs": [],
   "source": []
  },
  {
   "cell_type": "code",
   "execution_count": null,
   "id": "948e17bf-9072-4fe3-a1f3-24771ded0c45",
   "metadata": {},
   "outputs": [],
   "source": [
    "train_data.columns"
   ]
  },
  {
   "cell_type": "code",
   "execution_count": null,
   "id": "590f4d33-bdd3-466c-843a-b96609084f4a",
   "metadata": {},
   "outputs": [],
   "source": [
    "train_data_filtered.shape"
   ]
  },
  {
   "cell_type": "code",
   "execution_count": null,
   "id": "e1c5cdbf-b9d2-493a-97df-717154da88c8",
   "metadata": {},
   "outputs": [],
   "source": [
    "train_data.columns"
   ]
  },
  {
   "cell_type": "code",
   "execution_count": null,
   "id": "d1d85813-749d-439b-86d8-957014f4a195",
   "metadata": {},
   "outputs": [],
   "source": [
    "val_data.columns"
   ]
  },
  {
   "cell_type": "code",
   "execution_count": null,
   "id": "93830c05-e836-40b4-ba97-c87ef2d78de8",
   "metadata": {},
   "outputs": [],
   "source": [
    "train_data.loc[0]"
   ]
  },
  {
   "cell_type": "code",
   "execution_count": null,
   "id": "94961abc-ddae-40ec-9bb6-761278280784",
   "metadata": {},
   "outputs": [],
   "source": [
    "val_data.loc[0]"
   ]
  },
  {
   "cell_type": "code",
   "execution_count": null,
   "id": "70535bc7-5a5d-47db-a698-d3ea6e6241c5",
   "metadata": {},
   "outputs": [],
   "source": [
    "text_and_bert.loc[0]['name_bert_64']"
   ]
  },
  {
   "cell_type": "code",
   "execution_count": null,
   "id": "6cb08aeb-d775-4210-94b9-539bad47bea4",
   "metadata": {},
   "outputs": [],
   "source": [
    "attributes_filtered.shape"
   ]
  },
  {
   "cell_type": "code",
   "execution_count": null,
   "id": "9fc8bf6b-90b3-4f1c-bec1-f5e85df138a3",
   "metadata": {},
   "outputs": [],
   "source": [
    "attributes.shape"
   ]
  },
  {
   "cell_type": "code",
   "execution_count": null,
   "id": "ac222a3f-02d3-482f-9be1-8feb4ba9ef6f",
   "metadata": {},
   "outputs": [],
   "source": [
    "text_and_bert.columns"
   ]
  },
  {
   "cell_type": "code",
   "execution_count": null,
   "id": "632b1284-35a8-491c-ad05-64567506ffe7",
   "metadata": {},
   "outputs": [],
   "source": [
    "text_and_bert.head()"
   ]
  },
  {
   "cell_type": "code",
   "execution_count": null,
   "id": "a8dba999-5045-4942-bee8-302211b11c94",
   "metadata": {},
   "outputs": [],
   "source": [
    "attributes.columns"
   ]
  },
  {
   "cell_type": "code",
   "execution_count": null,
   "id": "acca9faf-2110-4652-93a1-61b17d22c8f2",
   "metadata": {},
   "outputs": [],
   "source": [
    "attributes.head()"
   ]
  },
  {
   "cell_type": "code",
   "execution_count": null,
   "id": "80f6598e-b454-419a-9b8a-77fdac9e4037",
   "metadata": {},
   "outputs": [],
   "source": [
    "attributes.loc[2]['characteristic_attributes_mapping']"
   ]
  },
  {
   "cell_type": "code",
   "execution_count": null,
   "id": "bb326190-d9d3-4cbd-a888-771ed8ba55d3",
   "metadata": {},
   "outputs": [],
   "source": [
    "text_and_bert.loc[0]['name']"
   ]
  },
  {
   "cell_type": "code",
   "execution_count": null,
   "id": "a7082639-1de4-4109-8eae-59bc487f8271",
   "metadata": {},
   "outputs": [],
   "source": [
    "text_and_bert.loc[0]['description']"
   ]
  },
  {
   "cell_type": "code",
   "execution_count": null,
   "id": "c20dca17-af7d-4740-9819-4ae6304d01cf",
   "metadata": {},
   "outputs": [],
   "source": [
    "text_and_bert.columns"
   ]
  },
  {
   "cell_type": "code",
   "execution_count": null,
   "id": "cdf5718c-2305-49b2-8043-9f5e40e7a122",
   "metadata": {},
   "outputs": [],
   "source": [
    "train.columns"
   ]
  },
  {
   "cell_type": "code",
   "execution_count": null,
   "id": "16f9b70b-4b5f-4187-a9a6-f58433bda75e",
   "metadata": {},
   "outputs": [],
   "source": [
    "train.head()"
   ]
  },
  {
   "cell_type": "code",
   "execution_count": null,
   "id": "6e5b482c-5bb2-46e8-b719-2c26cbe60d19",
   "metadata": {},
   "outputs": [],
   "source": [
    "%%time\n",
    "from baseline import process_text_and_bert\n",
    "attributes = process_text_and_bert(attributes)"
   ]
  },
  {
   "cell_type": "code",
   "execution_count": null,
   "id": "24fe4cc1-572c-4935-86f1-681f1a49de8e",
   "metadata": {},
   "outputs": [],
   "source": [
    "%%time\n",
    "from baseline import merge_data\n",
    "train_data = merge_data(attributes, train, resnet, text_and_bert)"
   ]
  },
  {
   "cell_type": "code",
   "execution_count": null,
   "id": "111e46e7-d5d1-49a3-9137-fd93c94e1128",
   "metadata": {},
   "outputs": [],
   "source": [
    "import joblib\n",
    "X_val = joblib.load('X_val.pkl')"
   ]
  },
  {
   "cell_type": "code",
   "execution_count": null,
   "id": "f35bd167-2772-4d8e-89cc-bbda65acda04",
   "metadata": {},
   "outputs": [],
   "source": [
    "X_val.shape"
   ]
  },
  {
   "cell_type": "code",
   "execution_count": null,
   "id": "c95a5e72-345f-48bb-a34d-168e036652b0",
   "metadata": {},
   "outputs": [],
   "source": [
    "# import joblib\n",
    "# X_val = joblib.load('X_val.pkl')\n",
    "# y_val = joblib.load('y_val.pkl')\n",
    "# tfidf_vectorizer = joblib.load('vectorizer.pkl')\n",
    "# model = joblib.load('baseline.pkl')\n",
    "# y_pred_prob = model.predict_proba(X_val)[:, 1]\n",
    "# y_pred = (y_pred_prob >= 0.5).astype(int)\n",
    "# y_pred[:20]"
   ]
  },
  {
   "cell_type": "code",
   "execution_count": null,
   "id": "32ab6501-4dfa-4234-95ae-feb03cd90512",
   "metadata": {},
   "outputs": [],
   "source": [
    "%%time\n",
    "from make_submission import main\n",
    "main()\n",
    "#target, predictions_prob, y_pred_prob = main()"
   ]
  },
  {
   "cell_type": "markdown",
   "id": "741cd9cb-568c-4bbb-a32f-819ae04a1b09",
   "metadata": {
    "jp-MarkdownHeadingCollapsed": true
   },
   "source": [
    "### Combined predictions"
   ]
  },
  {
   "cell_type": "code",
   "execution_count": null,
   "id": "625b1cfa-6423-4128-ad94-434dacca9b8a",
   "metadata": {
    "scrolled": true
   },
   "outputs": [],
   "source": [
    "import numpy as np\n",
    "predictions = (predictions_prob >= 0.5).astype(int)\n",
    "y_pred_prob = np.array(y_pred_prob)\n",
    "y_pred = (y_pred_prob >= 0.5).astype(int)"
   ]
  },
  {
   "cell_type": "code",
   "execution_count": null,
   "id": "f817eb3b-48dc-4009-8c9a-9898481abe30",
   "metadata": {},
   "outputs": [],
   "source": [
    "from baseline import evaluate_predictions\n",
    "evaluate_predictions(target, y_pred, y_pred_prob)"
   ]
  },
  {
   "cell_type": "code",
   "execution_count": null,
   "id": "34b2e853-aab3-4735-a4dd-2b33813fc1c1",
   "metadata": {},
   "outputs": [],
   "source": [
    "evaluate_predictions(target, predictions, predictions_prob)"
   ]
  },
  {
   "cell_type": "code",
   "execution_count": null,
   "id": "9d544c17-c73c-4383-abaf-6106f5c8149c",
   "metadata": {},
   "outputs": [],
   "source": [
    "combined_prob = (predictions_prob*0.6 + y_pred_prob*0.4)\n",
    "combined_predictions = (combined_prob >= 0.5).astype(int)\n",
    "evaluate_predictions(target, combined_predictions, combined_prob)"
   ]
  },
  {
   "cell_type": "markdown",
   "id": "f44a52bc-609a-42c7-a64b-85e76b7d9b50",
   "metadata": {},
   "source": [
    "### check inferens"
   ]
  },
  {
   "cell_type": "code",
   "execution_count": null,
   "id": "c3ef8420-d5b3-43f5-bba3-41c3af638e75",
   "metadata": {},
   "outputs": [],
   "source": [
    "%%time\n",
    "from make_submission import main\n",
    "test_data = main()\n",
    "text_1_list = test_data['text_1'].astype(str).tolist()\n",
    "text_2_list = test_data['text_2'].astype(str).tolist()\n",
    "del test_data"
   ]
  },
  {
   "cell_type": "code",
   "execution_count": null,
   "id": "8ca13663-1cb6-4064-8bb8-07b48299699a",
   "metadata": {},
   "outputs": [],
   "source": [
    "%%time\n",
    "import joblib\n",
    "import torch\n",
    "from torch.utils.data import Dataset, DataLoader, TensorDataset\n",
    "model = torch.load('bert.pkl')\n",
    "tokenizer = joblib.load(\"tokenizer.pkl\")\n",
    "inputs = tokenizer(text_1_list, text_2_list, padding=True, truncation=True, return_tensors=\"pt\", max_length=256)"
   ]
  },
  {
   "cell_type": "code",
   "execution_count": null,
   "id": "f346788f-0035-42f6-95af-c4a73480a8da",
   "metadata": {},
   "outputs": [],
   "source": [
    "%%time\n",
    "dataset = TensorDataset(inputs['input_ids'], inputs['attention_mask'], inputs['token_type_ids'])\n",
    "dataloader = DataLoader(dataset, batch_size=1)\n",
    "# Массивы для хранения предсказаний\n",
    "all_preds = []\n",
    "all_probs = []"
   ]
  },
  {
   "cell_type": "code",
   "execution_count": null,
   "id": "3144a6b0-f3e8-4a87-99ad-8a4ed16e115d",
   "metadata": {},
   "outputs": [],
   "source": [
    "%%time\n",
    "device=\"cpu\"\n",
    "model.eval()\n",
    "with torch.no_grad():\n",
    "    for batch in dataloader:\n",
    "        input_ids, attention_mask, token_type_ids = [x.to(device) for x in batch]\n",
    "        break"
   ]
  },
  {
   "cell_type": "code",
   "execution_count": null,
   "id": "41ff18e6-3af0-45a9-9682-a9ef4ad05c7a",
   "metadata": {},
   "outputs": [],
   "source": [
    "%%time\n",
    "outputs = model(input_ids, attention_mask=attention_mask, token_type_ids=token_type_ids)\n",
    "logits = outputs.logits\n",
    "probs = torch.softmax(logits, dim=1)\n",
    "preds = torch.argmax(probs, dim=1)"
   ]
  },
  {
   "cell_type": "code",
   "execution_count": null,
   "id": "08356498-14f8-47c9-a156-02009883c2b8",
   "metadata": {},
   "outputs": [],
   "source": [
    "all_preds.extend(preds.cpu().detach().numpy())\n",
    "all_probs.extend(probs[:, 1].cpu().detach().numpy())"
   ]
  },
  {
   "cell_type": "code",
   "execution_count": null,
   "id": "642929f2-70f6-4da5-82cd-e6dd64c4fa03",
   "metadata": {},
   "outputs": [],
   "source": [
    "type(preds)"
   ]
  },
  {
   "cell_type": "code",
   "execution_count": null,
   "id": "4aaee7fb-edf3-45b7-b930-1bf50cba7d45",
   "metadata": {},
   "outputs": [],
   "source": [
    "from pympler import asizeof\n",
    "from transformers import AutoTokenizer\n",
    "\n",
    "# Пример с токенизацией\n",
    "# tokenizer = AutoTokenizer.from_pretrained(\"bert-base-uncased\")\n",
    "# inputs = tokenizer(\"Hello, how are you?\", return_tensors=\"pt\")\n",
    "\n",
    "# Получение размера объекта BatchEncoding\n",
    "size = asizeof.asizeof(inputs['input_ids'])\n",
    "\n",
    "print(f\"Размер BatchEncoding в памяти: {size} байт\")"
   ]
  },
  {
   "cell_type": "code",
   "execution_count": null,
   "id": "26e7f385-eb5e-4f08-9b0b-fd2c540b6bf5",
   "metadata": {},
   "outputs": [],
   "source": [
    "inputs['input_ids'].shape"
   ]
  },
  {
   "cell_type": "code",
   "execution_count": null,
   "id": "0803d524-44c1-4825-8f3f-6e0437e045ad",
   "metadata": {},
   "outputs": [],
   "source": [
    "from baseline import save_trained_model\n",
    "save_trained_model()"
   ]
  },
  {
   "cell_type": "code",
   "execution_count": null,
   "id": "57d8a492-c0d0-4f66-8436-b58f3ab63c0c",
   "metadata": {},
   "outputs": [],
   "source": [
    "import joblib\n",
    "# train_texts = joblib.load('./data/train_texts.pkl')\n",
    "train_texts = joblib.load('./data/val_texts.pkl')"
   ]
  },
  {
   "cell_type": "code",
   "execution_count": null,
   "id": "da52eab9-98ed-432a-ac93-280560328f36",
   "metadata": {},
   "outputs": [],
   "source": [
    "from sklearn.metrics import accuracy_score, precision_score, recall_score, roc_auc_score\n",
    "import transformers\n",
    "from transformers import BertTokenizer, BertForSequenceClassification, Trainer, TrainingArguments, BertModel\n",
    "from torch.utils.data import Dataset, DataLoader, TensorDataset\n",
    "import torch\n",
    "\n",
    "MAX_TOKENS=1024\n",
    "\n",
    "# Допустим, у вас есть такие переменные\n",
    "# train_texts - список текстов\n",
    "# tokenizer - ваш токенайзер\n",
    "# MAX_TOKENS - максимальная длина\n",
    "\n",
    "tokenizer = BertTokenizer.from_pretrained('rubert-tiny2')\n",
    "\n",
    "# Сначала токенизируем все тексты и определяем их длину\n",
    "token_lengths = [len(tokenizer.encode(text, truncation=False)) for text in train_texts]\n",
    "\n",
    "# Определяем, сколько текстов превышают MAX_TOKENS\n",
    "num_exceeding = sum(1 for length in token_lengths if length > MAX_TOKENS)\n",
    "\n",
    "# Вычисляем процент\n",
    "percent_exceeding = (num_exceeding / len(train_texts)) * 100\n",
    "\n",
    "print(f\"Процент данных, длина которых превышает {MAX_TOKENS} токенов: {percent_exceeding:.2f}%\")"
   ]
  },
  {
   "cell_type": "code",
   "execution_count": null,
   "id": "121da582-59ec-44f3-bc13-865acddf7917",
   "metadata": {},
   "outputs": [],
   "source": [
    "type(train_texts)"
   ]
  },
  {
   "cell_type": "code",
   "execution_count": null,
   "id": "1e105609-7c96-420d-9c3a-26f0209d4a22",
   "metadata": {},
   "outputs": [],
   "source": [
    "train_texts = train_texts[:100]"
   ]
  },
  {
   "cell_type": "code",
   "execution_count": null,
   "id": "5c1c84da-3525-40f7-b18a-f63d4e793ee5",
   "metadata": {},
   "outputs": [],
   "source": [
    "arr = type(train_texts)"
   ]
  },
  {
   "cell_type": "code",
   "execution_count": null,
   "id": "652c5a9b-9ed9-4503-ada6-7d8f34d9115f",
   "metadata": {},
   "outputs": [],
   "source": [
    "list1 = [1, 2, 3]\n",
    "list2 = [4, 5, 6]\n",
    "list3 = list1 + list2\n",
    "\n",
    "print(list3)"
   ]
  },
  {
   "cell_type": "code",
   "execution_count": null,
   "id": "7d5966dc-9419-4575-abc9-c029e942affa",
   "metadata": {},
   "outputs": [],
   "source": []
  }
 ],
 "metadata": {
  "kernelspec": {
   "display_name": "Python 3 (ipykernel)",
   "language": "python",
   "name": "python3"
  },
  "language_info": {
   "codemirror_mode": {
    "name": "ipython",
    "version": 3
   },
   "file_extension": ".py",
   "mimetype": "text/x-python",
   "name": "python",
   "nbconvert_exporter": "python",
   "pygments_lexer": "ipython3",
   "version": "3.11.7"
  }
 },
 "nbformat": 4,
 "nbformat_minor": 5
}
